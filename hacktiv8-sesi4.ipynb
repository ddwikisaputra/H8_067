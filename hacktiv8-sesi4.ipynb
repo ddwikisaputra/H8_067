{
 "cells": [
  {
   "cell_type": "code",
   "execution_count": 7,
   "id": "72d0d790",
   "metadata": {},
   "outputs": [
    {
     "name": "stdout",
     "output_type": "stream",
     "text": [
      "Tipe :  <class 'numpy.ndarray'>\n",
      "Index ke 0 :  1\n"
     ]
    }
   ],
   "source": [
    "import numpy as np\n",
    "\n",
    "listNum = np.array([1, 2, 3])\n",
    "\n",
    "print(\"Tipe : \", type(listNum))\n",
    "print(\"Index ke 0 : \", listNum[0])"
   ]
  },
  {
   "cell_type": "code",
   "execution_count": 9,
   "id": "4bcb6ed1",
   "metadata": {},
   "outputs": [
    {
     "name": "stdout",
     "output_type": "stream",
     "text": [
      "Tipe :  <class 'numpy.ndarray'>\n",
      "Matriks :  (2, 3)\n",
      "Index ke 0, 2 :  3\n"
     ]
    }
   ],
   "source": [
    "listNestedNum = np.array([[1,2,3], [4,5,6]])\n",
    "\n",
    "print(\"Tipe : \", type(listNestedNum))\n",
    "print(\"Matriks : \", listNestedNum.shape)\n",
    "print(\"Index ke 0, 2 : \", listNestedNum[0][2])"
   ]
  },
  {
   "cell_type": "code",
   "execution_count": 26,
   "id": "60ecb63c",
   "metadata": {},
   "outputs": [
    {
     "name": "stdout",
     "output_type": "stream",
     "text": [
      "Zero\n",
      "[[0. 0. 0.]\n",
      " [0. 0. 0.]]\n",
      "\n",
      "Ones\n",
      "[[1. 1. 1.]\n",
      " [1. 1. 1.]]\n",
      "\n",
      "Empty\n",
      "[[4.68155856e-310 0.00000000e+000 6.79038654e-313 2.22809558e-312]\n",
      " [2.14321575e-312 2.46151512e-312 2.41907520e-312 5.97819431e-322]]\n",
      "\n",
      "Arage\n",
      "[0 2 4 6 8]\n"
     ]
    }
   ],
   "source": [
    "listZerosNum = np.zeros((2,3))\n",
    "listOnesNum = np.ones((2,3))\n",
    "listEmptyNum = np.empty((2,4))\n",
    "listArageNum = np.arange(0, 10, 2) #(start, stop, step)\n",
    "print(\"Zero\")\n",
    "print(listZerosNum)\n",
    "print()\n",
    "print(\"Ones\")\n",
    "print(listOnesNum)\n",
    "print()\n",
    "print(\"Empty\")\n",
    "print(listEmptyNum)\n",
    "print()\n",
    "print(\"Arage\")\n",
    "print(listArageNum)"
   ]
  },
  {
   "cell_type": "code",
   "execution_count": 129,
   "id": "6cd210d9",
   "metadata": {},
   "outputs": [
    {
     "name": "stdout",
     "output_type": "stream",
     "text": [
      "List\n",
      "[1 2 3]\n",
      "\n",
      "List Append\n",
      "[1 2 3 4 5]\n",
      "\n",
      "List Delete\n",
      "[1 3 4 5]\n",
      "\n",
      "List Insert\n",
      "[300   1   3   4   5]\n",
      "\n",
      "List Sort\n",
      "[  1   3   4   5 300]\n",
      "List\n",
      "[[1 2 3]\n",
      " [4 5 6]]\n",
      "\n",
      "List Ndim\n",
      "2\n",
      "\n",
      "List Size\n",
      "6\n",
      "\n",
      "List Shape\n",
      "(2, 3)\n",
      "\n",
      "List ReShape\n",
      "[1]\n",
      "\n",
      "List Transpose\n",
      "[  1   3   4   5 300]\n"
     ]
    }
   ],
   "source": [
    "listNum = np.array([1, 2, 3])\n",
    "\n",
    "print(\"List\")\n",
    "print(listNum)\n",
    "\n",
    "listNum = np.append(listNum, [4,5])\n",
    "print()\n",
    "print(\"List Append\")\n",
    "print(listNum)\n",
    "\n",
    "listNum = np.delete(listNum, 1) #(index ke..)\n",
    "print()\n",
    "print(\"List Delete\")\n",
    "print(listNum)\n",
    "\n",
    "listNum = np.insert(listNum, 0, 300) #(array, index ke .., value)\n",
    "print()\n",
    "print(\"List Insert\")\n",
    "print(listNum)\n",
    "\n",
    "listNum = np.sort(listNum)\n",
    "print()\n",
    "print(\"List Sort\")\n",
    "print(listNum)\n",
    "\n",
    "listNestedNum = np.array([[1,2,3], [4,5,6]])\n",
    "print(\"List\")\n",
    "print(listNestedNum)\n",
    "\n",
    "print()\n",
    "print(\"List Ndim\")\n",
    "print(np.ndim(listNestedNum)) #banyaknya row / dimensi\n",
    "\n",
    "print()\n",
    "print(\"List Size\")\n",
    "print(np.size(listNestedNum)) #banyaknya elemen\n",
    "\n",
    "print()\n",
    "print(\"List Shape\")\n",
    "print(np.shape(listNestedNum))#banyaknya matriks\n",
    "\n",
    "print()\n",
    "print(\"List ReShape\")\n",
    "print(np.reshape(1, 1))#banyaknya matriks"
   ]
  },
  {
   "cell_type": "code",
   "execution_count": 60,
   "id": "d0aa83d0",
   "metadata": {},
   "outputs": [
    {
     "name": "stdout",
     "output_type": "stream",
     "text": [
      "List\n",
      "[1 2 3]\n",
      "\n",
      "List New Axis\n",
      "[[1 2 3]]\n"
     ]
    }
   ],
   "source": [
    "listNum = np.array([1, 2, 3])\n",
    "\n",
    "print(\"List\")\n",
    "print(listNum)\n",
    "\n",
    "listNum1 = listNum[np.newaxis]\n",
    "print()\n",
    "print(\"List New Axis\")\n",
    "print(listNum1)"
   ]
  },
  {
   "cell_type": "code",
   "execution_count": 63,
   "id": "3803dd84",
   "metadata": {},
   "outputs": [
    {
     "name": "stdout",
     "output_type": "stream",
     "text": [
      "List\n",
      "[1 2 3]\n",
      "\n",
      "List Expand Dims\n",
      "[[1]\n",
      " [2]\n",
      " [3]]\n"
     ]
    }
   ],
   "source": [
    "listNum = np.array([1, 2, 3])\n",
    "\n",
    "print(\"List\")\n",
    "print(listNum)\n",
    "\n",
    "listNum1 = np.expand_dims(listNum, axis=1)\n",
    "print()\n",
    "print(\"List Expand Dims\")\n",
    "print(listNum1)"
   ]
  },
  {
   "cell_type": "code",
   "execution_count": 127,
   "id": "ae7eda13",
   "metadata": {},
   "outputs": [
    {
     "name": "stdout",
     "output_type": "stream",
     "text": [
      "List\n",
      "[1 2 3 4 5]\n",
      "\n",
      "Slice 0 s/d 2\n",
      "[1 2]\n",
      "\n",
      "Slice start dari 3 s/d abis\n",
      "4\n",
      "List Nested\n",
      "[[1 2 3]\n",
      " [4 5 6]\n",
      " [7 8 9]]\n",
      "\n",
      "Slice value more than 3\n",
      "[4 5 6 7 8 9]\n",
      "\n",
      "Slice value more than equal 7\n",
      "[7 8 9]\n",
      "\n",
      "Slice value more than equal 7 and less than 8\n",
      "[7]\n",
      "\n",
      "Slice value equal 3 or less than 8\n",
      "[1 2 3 4 5 6 7]\n",
      "\n",
      "Slice value row 1 column 2\n",
      "6\n"
     ]
    }
   ],
   "source": [
    "listNum = np.array([1, 2, 3, 4, 5])\n",
    "\n",
    "print(\"List\")\n",
    "print(listNum)\n",
    "\n",
    "print()\n",
    "print(\"Slice 0 s/d 2\")\n",
    "print(listNum[0:2])\n",
    "\n",
    "print()\n",
    "print(\"Slice start dari 3 s/d abis\")\n",
    "print(listNum[3])\n",
    "\n",
    "listNestedNum = np.array([[1,2,3], \n",
    "                          [4,5,6], \n",
    "                          [7,8,9]])\n",
    "print(\"List Nested\")\n",
    "print(listNestedNum)\n",
    "\n",
    "print()\n",
    "print(\"Slice value more than 3\")\n",
    "print(listNestedNum[listNestedNum > 3])\n",
    "\n",
    "conditionMore = (listNestedNum >= 7)\n",
    "conditionLess = (listNestedNum < 8)\n",
    "conditionEqual = (listNestedNum == 3)\n",
    "print()\n",
    "print(\"Slice value more than equal 7\")\n",
    "print(listNestedNum[condition])\n",
    "print()\n",
    "print(\"Slice value more than equal 7 and less than 8\")\n",
    "print(listNestedNum[conditionMore & conditionLess])\n",
    "print()\n",
    "print(\"Slice value equal 3 or less than 8\")\n",
    "print(listNestedNum[conditionEqual | conditionLess])\n",
    "print()\n",
    "print(\"Slice value row 1 column 2\")\n",
    "print(listNestedNum[1,2]) #row, column"
   ]
  },
  {
   "cell_type": "code",
   "execution_count": 90,
   "id": "ef8d2582",
   "metadata": {},
   "outputs": [
    {
     "name": "stdout",
     "output_type": "stream",
     "text": [
      "List A\n",
      "[[1 1]\n",
      " [2 2]]\n",
      "List B\n",
      "[[3 3]\n",
      " [4 4]]\n",
      "\n",
      "Merge Array Vetikal\n",
      "[[1 1]\n",
      " [2 2]\n",
      " [3 3]\n",
      " [4 4]]\n",
      "\n",
      "Merge Array Horizontal\n",
      "[[1 1 3 3]\n",
      " [2 2 4 4]]\n"
     ]
    }
   ],
   "source": [
    "a = np.array([[1,1],\n",
    "              [2,2]])\n",
    "b = np.array([[3,3],\n",
    "              [4,4]])\n",
    "print(\"List A\")\n",
    "print(a)\n",
    "print(\"List B\")\n",
    "print(b)\n",
    "\n",
    "print()\n",
    "print(\"Merge Array Vetikal\")\n",
    "print(np.vstack((a, b)))\n",
    "\n",
    "print()\n",
    "print(\"Merge Array Horizontal\")\n",
    "print(np.hstack((a, b)))"
   ]
  },
  {
   "cell_type": "code",
   "execution_count": 105,
   "id": "cac97606",
   "metadata": {},
   "outputs": [
    {
     "name": "stdout",
     "output_type": "stream",
     "text": [
      "List\n",
      "[ 1  2  3  5  6  7  8  9 10]\n",
      "\n",
      "Array Horizontal Split\n",
      "[array([1, 2, 3]), array([5, 6, 7]), array([ 8,  9, 10])]\n"
     ]
    }
   ],
   "source": [
    "listNum = np.array([1,2,3,5,6,7,8,9,10])\n",
    "print(\"List\")\n",
    "print(listNum)\n",
    "\n",
    "print()\n",
    "print(\"Array Horizontal Split\")\n",
    "print(np.hsplit(listNum, 3)) #harus dibagi sama rata"
   ]
  },
  {
   "cell_type": "code",
   "execution_count": 107,
   "id": "3a1a4d55",
   "metadata": {},
   "outputs": [
    {
     "name": "stdout",
     "output_type": "stream",
     "text": [
      "List Nested\n",
      "[[1 2 3]\n",
      " [4 5 6]\n",
      " [7 8 9]]\n",
      "\n",
      "Array Vetikal Split\n",
      "[array([[1],\n",
      "       [4],\n",
      "       [7]]), array([[2],\n",
      "       [5],\n",
      "       [8]]), array([[3],\n",
      "       [6],\n",
      "       [9]])]\n",
      "\n",
      "Copy Array\n",
      "[[1 2 3]\n",
      " [4 5 6]\n",
      " [7 8 9]]\n"
     ]
    }
   ],
   "source": [
    "listNestedNum = np.array([[1,2,3], \n",
    "                          [4,5,6], \n",
    "                          [7,8,9]])\n",
    "print(\"List Nested\")\n",
    "print(listNestedNum)\n",
    "\n",
    "print()\n",
    "print(\"Array Vetikal Split\")\n",
    "print(np.hsplit(listNestedNum, 3))\n",
    "\n",
    "copyList = listNestedNum.copy()\n",
    "print()\n",
    "print(\"Copy Array\")\n",
    "print(copyList)"
   ]
  },
  {
   "cell_type": "code",
   "execution_count": 119,
   "id": "779542be",
   "metadata": {},
   "outputs": [
    {
     "name": "stdout",
     "output_type": "stream",
     "text": [
      "List\n",
      "[ 1  2  3  5  6  7  8  9 10]\n",
      "\n",
      "Sum\n",
      "51\n",
      "\n",
      "Min\n",
      "1\n",
      "\n",
      "Max\n",
      "10\n",
      "\n",
      "Mead\n",
      "5.666666666666667\n",
      "\n",
      "List Nested\n",
      "[[1 2 3]\n",
      " [4 5 6]\n",
      " [7 8 9]]\n",
      "\n",
      "Sum Per Kolom\n",
      "[12 15 18]\n",
      "\n",
      "Sum Per Baris\n",
      "[ 6 15 24]\n"
     ]
    }
   ],
   "source": [
    "listNum = np.array([1,2,3,5,6,7,8,9,10])\n",
    "print(\"List\")\n",
    "print(listNum)\n",
    "\n",
    "print()\n",
    "print(\"Sum\")\n",
    "print(listNum.sum())\n",
    "\n",
    "print()\n",
    "print(\"Min\")\n",
    "print(listNum.min())\n",
    "\n",
    "print()\n",
    "print(\"Max\")\n",
    "print(listNum.max())\n",
    "\n",
    "print()\n",
    "print(\"Mead\")\n",
    "print(listNum.mean())\n",
    "\n",
    "listNestedNum = np.array([[1,2,3], \n",
    "                          [4,5,6], \n",
    "                          [7,8,9]])\n",
    "\n",
    "print()\n",
    "print(\"List Nested\")\n",
    "print(listNestedNum)\n",
    "\n",
    "print()\n",
    "print(\"Sum Per Kolom\")\n",
    "print(listNestedNum.sum(axis=0))\n",
    "\n",
    "print()\n",
    "print(\"Sum Per Baris\")\n",
    "print(listNestedNum.sum(axis=1))"
   ]
  },
  {
   "cell_type": "code",
   "execution_count": 112,
   "id": "2e687804",
   "metadata": {},
   "outputs": [
    {
     "name": "stdout",
     "output_type": "stream",
     "text": [
      "Penjuamlahan Array per index\n",
      "[5 7 9]\n",
      "\n",
      "Perkalian\n",
      "[ 4 10 18]\n",
      "\n",
      "Pembagian\n",
      "[0.25 0.4  0.5 ]\n"
     ]
    }
   ],
   "source": [
    "a = np.array([1,2,3])\n",
    "b = np.array([4,5,6])\n",
    "print(\"Penjuamlahan Array per index\")\n",
    "print(a + b)\n",
    "\n",
    "print()\n",
    "print(\"Perkalian\")\n",
    "print(a * b)\n",
    "\n",
    "print()\n",
    "print(\"Pembagian\")\n",
    "print(a / b)"
   ]
  },
  {
   "cell_type": "code",
   "execution_count": 120,
   "id": "11184975",
   "metadata": {},
   "outputs": [
    {
     "name": "stdout",
     "output_type": "stream",
     "text": [
      "List\n",
      "[ 1  2  3  5  6  7  8  9 10]\n",
      "\n",
      "Broadcasting\n",
      "[ 2  4  6 10 12 14 16 18 20]\n"
     ]
    }
   ],
   "source": [
    "listNum = np.array([1,2,3,5,6,7,8,9,10])\n",
    "print(\"List\")\n",
    "print(listNum)\n",
    "\n",
    "print()\n",
    "print(\"Broadcasting\")\n",
    "print(listNum * 2)"
   ]
  },
  {
   "cell_type": "code",
   "execution_count": 130,
   "id": "82d5c15e",
   "metadata": {},
   "outputs": [
    {
     "name": "stdout",
     "output_type": "stream",
     "text": [
      "\n",
      "List Nested\n",
      "[[1 2 3]\n",
      " [4 5 6]\n",
      " [7 8 9]]\n",
      "\n",
      "List Transpose\n",
      "[[1 4 7]\n",
      " [2 5 8]\n",
      " [3 6 9]]\n"
     ]
    }
   ],
   "source": [
    "listNestedNum = np.array([[1,2,3], \n",
    "                          [4,5,6], \n",
    "                          [7,8,9]])\n",
    "\n",
    "print()\n",
    "print(\"List Nested\")\n",
    "print(listNestedNum)\n",
    "\n",
    "print()\n",
    "print(\"List Transpose\")\n",
    "print(listNestedNum.T)#baris -> kolom, kolom -> baris"
   ]
  },
  {
   "cell_type": "code",
   "execution_count": 136,
   "id": "8b1e9539",
   "metadata": {},
   "outputs": [
    {
     "name": "stdout",
     "output_type": "stream",
     "text": [
      "List\n",
      "[[[0.75129348 0.5584073 ]\n",
      "  [0.59513365 0.32970166]\n",
      "  [0.97439767 0.36796871]]\n",
      "\n",
      " [[0.48228706 0.68159011]\n",
      "  [0.12787176 0.42419363]\n",
      "  [0.57760565 0.30983932]]\n",
      "\n",
      " [[0.94982924 0.70088011]\n",
      "  [0.56469179 0.21923665]\n",
      "  [0.9047315  0.03974293]]\n",
      "\n",
      " [[0.35234755 0.52445986]\n",
      "  [0.18320799 0.20743943]\n",
      "  [0.9110566  0.33699729]]]\n",
      "\n",
      "List Flatten\n",
      "[0.75129348 0.5584073  0.59513365 0.32970166 0.97439767 0.36796871\n",
      " 0.48228706 0.68159011 0.12787176 0.42419363 0.57760565 0.30983932\n",
      " 0.94982924 0.70088011 0.56469179 0.21923665 0.9047315  0.03974293\n",
      " 0.35234755 0.52445986 0.18320799 0.20743943 0.9110566  0.33699729]\n"
     ]
    }
   ],
   "source": [
    "data = np.random.random((4,3,2))\n",
    "\n",
    "print(\"List\")\n",
    "print(data)\n",
    "\n",
    "print()\n",
    "print(\"List Flatten\")\n",
    "print(data.flatten()) #merubah dari banyak dimensi menjadi 1 dimensi"
   ]
  }
 ],
 "metadata": {
  "kernelspec": {
   "display_name": "Python 3",
   "language": "python",
   "name": "python3"
  },
  "language_info": {
   "codemirror_mode": {
    "name": "ipython",
    "version": 3
   },
   "file_extension": ".py",
   "mimetype": "text/x-python",
   "name": "python",
   "nbconvert_exporter": "python",
   "pygments_lexer": "ipython3",
   "version": "3.8.8"
  }
 },
 "nbformat": 4,
 "nbformat_minor": 5
}
