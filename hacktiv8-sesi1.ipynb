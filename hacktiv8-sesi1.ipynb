{
 "cells": [
  {
   "cell_type": "code",
   "execution_count": 1,
   "id": "b8bec653",
   "metadata": {},
   "outputs": [
    {
     "data": {
      "text/plain": [
       "10"
      ]
     },
     "execution_count": 1,
     "metadata": {},
     "output_type": "execute_result"
    }
   ],
   "source": [
    "5+5"
   ]
  },
  {
   "cell_type": "code",
   "execution_count": 45,
   "id": "cb92dff9",
   "metadata": {},
   "outputs": [
    {
     "name": "stdout",
     "output_type": "stream",
     "text": [
      "90\n",
      "1.1111111111111112\n",
      "1\n"
     ]
    }
   ],
   "source": [
    "x=10\n",
    "y=9\n",
    "print(x*y)\n",
    "\n",
    "print(x/y)\n",
    "print(x//y)"
   ]
  },
  {
   "cell_type": "code",
   "execution_count": 2,
   "id": "9e9707f9",
   "metadata": {},
   "outputs": [
    {
     "name": "stdout",
     "output_type": "stream",
     "text": [
      "<class 'bool'>\n"
     ]
    }
   ],
   "source": [
    "print(type(True))"
   ]
  },
  {
   "cell_type": "code",
   "execution_count": 5,
   "id": "f0592266",
   "metadata": {},
   "outputs": [
    {
     "data": {
      "text/plain": [
       "True"
      ]
     },
     "execution_count": 5,
     "metadata": {},
     "output_type": "execute_result"
    }
   ],
   "source": [
    "a = 10\n",
    "b = 10\n",
    "\n",
    "a <= b"
   ]
  },
  {
   "cell_type": "code",
   "execution_count": 10,
   "id": "640377da",
   "metadata": {},
   "outputs": [
    {
     "name": "stdout",
     "output_type": "stream",
     "text": [
      "Nama Saya Dwiki\n",
      "DwikiDwikiDwiki\n",
      "False\n"
     ]
    }
   ],
   "source": [
    "str1 = \"Nama Saya\"\n",
    "str2 = \"Dwiki\"\n",
    "str3 = \"Ada Dwiki\"\n",
    "\n",
    "print(str1 + \" \" + str2)\n",
    "\n",
    "print(str2 * 3)\n",
    "\n",
    "print(str3 in str2)"
   ]
  },
  {
   "cell_type": "code",
   "execution_count": 22,
   "id": "729404fc",
   "metadata": {},
   "outputs": [
    {
     "name": "stdout",
     "output_type": "stream",
     "text": [
      "['a', 'b', 'c']\n",
      "a\n",
      "['b', 'c']\n"
     ]
    }
   ],
   "source": [
    "collection = ['a', 'b', 'c']\n",
    "\n",
    "print(collection)\n",
    "print(collection[0])\n",
    "print(collection[1:3])"
   ]
  },
  {
   "cell_type": "code",
   "execution_count": 18,
   "id": "2c0cee7b",
   "metadata": {},
   "outputs": [
    {
     "name": "stdout",
     "output_type": "stream",
     "text": [
      "['a', 'Z', 'c']\n"
     ]
    }
   ],
   "source": [
    "collection[1] = 'Z'\n",
    "\n",
    "print(collection)"
   ]
  },
  {
   "cell_type": "code",
   "execution_count": 19,
   "id": "b44ae520",
   "metadata": {},
   "outputs": [
    {
     "name": "stdout",
     "output_type": "stream",
     "text": [
      "[['A', 'B'], ['C', 'D']]\n"
     ]
    }
   ],
   "source": [
    "collections = [['A', 'B'], ['C', 'D']]\n",
    "\n",
    "print(collections)"
   ]
  },
  {
   "cell_type": "code",
   "execution_count": 24,
   "id": "015fc314",
   "metadata": {},
   "outputs": [
    {
     "name": "stdout",
     "output_type": "stream",
     "text": [
      "(1, 2, 3, 4)\n",
      "4\n"
     ]
    }
   ],
   "source": [
    "tupples = (1, 2, 3, 4)\n",
    "\n",
    "print(tupples)\n",
    "print(tupples[3])"
   ]
  },
  {
   "cell_type": "code",
   "execution_count": 31,
   "id": "b7ee3f64",
   "metadata": {},
   "outputs": [
    {
     "name": "stdout",
     "output_type": "stream",
     "text": [
      "{'nama': 'Dwiki Saputra', 'divisi': 'Digital'}\n",
      "Dwiki Saputra\n",
      "{'nama': 'Dwiki Saputra', 'divisi': 'Digital', 'agama': 'Islam'}\n",
      "<class 'dict'>\n"
     ]
    }
   ],
   "source": [
    "dictionary = {\n",
    "    \"nama\" : \"Dwiki Saputra\",\n",
    "    \"divisi\" : \"Digital\"\n",
    "}\n",
    "\n",
    "print(dictionary)\n",
    "print(dictionary[\"nama\"])\n",
    "\n",
    "dictionary[\"agama\"] = \"Islam\"\n",
    "\n",
    "print(dictionary)\n",
    "print(type(dictionary))"
   ]
  },
  {
   "cell_type": "code",
   "execution_count": 42,
   "id": "d380124f",
   "metadata": {},
   "outputs": [
    {
     "name": "stdout",
     "output_type": "stream",
     "text": [
      "{'nama': 'Dwiki Saputra', 'alamat': 'Cempaka Putih Barat', 'proyek': {'2016': ['Absesnsi', 'TA'], '2020': 'Pinang Mikro'}}\n",
      "\n",
      "dict_items([('nama', 'Dwiki Saputra'), ('alamat', 'Cempaka Putih Barat'), ('proyek', {'2016': ['Absesnsi', 'TA'], '2020': 'Pinang Mikro'})])\n",
      "\n",
      "dict_keys(['nama', 'alamat', 'proyek'])\n",
      "\n",
      "dict_values(['Dwiki Saputra', 'Cempaka Putih Barat', {'2016': ['Absesnsi', 'TA'], '2020': 'Pinang Mikro'}])\n"
     ]
    }
   ],
   "source": [
    "collDict = {}\n",
    "\n",
    "collDict[\"nama\"] = \"Dwiki Saputra\"\n",
    "collDict[\"alamat\"] = \"Cempaka Putih Barat\"\n",
    "collDict[\"proyek\"] = {\"2016\" : [\"Absesnsi\", \"TA\"], \"2020\" : \"Pinang Mikro\"}\n",
    "\n",
    "print(collDict)\n",
    "print()\n",
    "print(collDict.items())\n",
    "print()\n",
    "print(collDict.keys())\n",
    "print()\n",
    "print(collDict.values())"
   ]
  },
  {
   "cell_type": "code",
   "execution_count": 44,
   "id": "3df1a893",
   "metadata": {},
   "outputs": [
    {
     "name": "stdout",
     "output_type": "stream",
     "text": [
      "Lorem Ipsum is simply dummy text of the printing and typesetting industry. Lorem Ipsum has been the industry's standard dummy text ever since the 1500s, when an unknown printer took a galley of type and scrambled it to make a type specimen book. It has survived not only five centuries, but also the leap into electronic typesetting, remaining essentially unchanged. It was popularised in the 1960s with the release of Letraset sheets containing Lorem Ipsum passages, and more recently with desktop publishing software like Aldus PageMaker including versions of Lorem Ipsum.\n"
     ]
    }
   ],
   "source": [
    "text = \"Lorem Ipsum is simply dummy text of the printing and typesetting industry. \"\\\n",
    "\"Lorem Ipsum has been the industry's standard dummy text ever since the 1500s, \"\\\n",
    "\"when an unknown printer took a galley of type and scrambled it to make a type specimen book. \"\\\n",
    "\"It has survived not only five centuries, but also the leap into electronic typesetting, \"\\\n",
    "\"remaining essentially unchanged. It was popularised in the 1960s with the release of Letraset sheets \"\\\n",
    "\"containing Lorem Ipsum passages, and more recently with desktop publishing software like Aldus PageMaker \"\\\n",
    "\"including versions of Lorem Ipsum.\"\n",
    "\n",
    "print(text)"
   ]
  }
 ],
 "metadata": {
  "kernelspec": {
   "display_name": "Python 3",
   "language": "python",
   "name": "python3"
  },
  "language_info": {
   "codemirror_mode": {
    "name": "ipython",
    "version": 3
   },
   "file_extension": ".py",
   "mimetype": "text/x-python",
   "name": "python",
   "nbconvert_exporter": "python",
   "pygments_lexer": "ipython3",
   "version": "3.8.8"
  }
 },
 "nbformat": 4,
 "nbformat_minor": 5
}
