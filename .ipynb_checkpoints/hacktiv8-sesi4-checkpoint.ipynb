{
 "cells": [
  {
   "cell_type": "code",
   "execution_count": 7,
   "id": "8c31722c",
   "metadata": {},
   "outputs": [
    {
     "name": "stdout",
     "output_type": "stream",
     "text": [
      "Tipe :  <class 'numpy.ndarray'>\n",
      "Index ke 0 :  1\n"
     ]
    }
   ],
   "source": [
    "import numpy as np\n",
    "\n",
    "listNum = np.array([1, 2, 3])\n",
    "\n",
    "print(\"Tipe : \", type(listNum))\n",
    "print(\"Index ke 0 : \", listNum[0])"
   ]
  },
  {
   "cell_type": "code",
   "execution_count": 9,
   "id": "03d449ca",
   "metadata": {},
   "outputs": [
    {
     "name": "stdout",
     "output_type": "stream",
     "text": [
      "Tipe :  <class 'numpy.ndarray'>\n",
      "Matriks :  (2, 3)\n",
      "Index ke 0, 2 :  3\n"
     ]
    }
   ],
   "source": [
    "listNestedNum = np.array([[1,2,3], [4,5,6]])\n",
    "\n",
    "print(\"Tipe : \", type(listNestedNum))\n",
    "print(\"Matriks : \", listNestedNum.shape)\n",
    "print(\"Index ke 0, 2 : \", listNestedNum[0][2])"
   ]
  },
  {
   "cell_type": "code",
   "execution_count": 26,
   "id": "bba10e12",
   "metadata": {},
   "outputs": [
    {
     "name": "stdout",
     "output_type": "stream",
     "text": [
      "Zero\n",
      "[[0. 0. 0.]\n",
      " [0. 0. 0.]]\n",
      "\n",
      "Ones\n",
      "[[1. 1. 1.]\n",
      " [1. 1. 1.]]\n",
      "\n",
      "Empty\n",
      "[[4.68155856e-310 0.00000000e+000 6.79038654e-313 2.22809558e-312]\n",
      " [2.14321575e-312 2.46151512e-312 2.41907520e-312 5.97819431e-322]]\n",
      "\n",
      "Arage\n",
      "[0 2 4 6 8]\n"
     ]
    }
   ],
   "source": [
    "listZerosNum = np.zeros((2,3))\n",
    "listOnesNum = np.ones((2,3))\n",
    "listEmptyNum = np.empty((2,4))\n",
    "listArageNum = np.arange(0, 10, 2) #(start, stop, step)\n",
    "print(\"Zero\")\n",
    "print(listZerosNum)\n",
    "print()\n",
    "print(\"Ones\")\n",
    "print(listOnesNum)\n",
    "print()\n",
    "print(\"Empty\")\n",
    "print(listEmptyNum)\n",
    "print()\n",
    "print(\"Arage\")\n",
    "print(listArageNum)"
   ]
  },
  {
   "cell_type": "code",
   "execution_count": 129,
   "id": "0c7d8997",
   "metadata": {},
   "outputs": [
    {
     "name": "stdout",
     "output_type": "stream",
     "text": [
      "List\n",
      "[1 2 3]\n",
      "\n",
      "List Append\n",
      "[1 2 3 4 5]\n",
      "\n",
      "List Delete\n",
      "[1 3 4 5]\n",
      "\n",
      "List Insert\n",
      "[300   1   3   4   5]\n",
      "\n",
      "List Sort\n",
      "[  1   3   4   5 300]\n",
      "List\n",
      "[[1 2 3]\n",
      " [4 5 6]]\n",
      "\n",
      "List Ndim\n",
      "2\n",
      "\n",
      "List Size\n",
      "6\n",
      "\n",
      "List Shape\n",
      "(2, 3)\n",
      "\n",
      "List ReShape\n",
      "[1]\n",
      "\n",
      "List Transpose\n",
      "[  1   3   4   5 300]\n"
     ]
    }
   ],
   "source": [
    "listNum = np.array([1, 2, 3])\n",
    "\n",
    "print(\"List\")\n",
    "print(listNum)\n",
    "\n",
    "listNum = np.append(listNum, [4,5])\n",
    "print()\n",
    "print(\"List Append\")\n",
    "print(listNum)\n",
    "\n",
    "listNum = np.delete(listNum, 1) #(index ke..)\n",
    "print()\n",
    "print(\"List Delete\")\n",
    "print(listNum)\n",
    "\n",
    "listNum = np.insert(listNum, 0, 300) #(array, index ke .., value)\n",
    "print()\n",
    "print(\"List Insert\")\n",
    "print(listNum)\n",
    "\n",
    "listNum = np.sort(listNum)\n",
    "print()\n",
    "print(\"List Sort\")\n",
    "print(listNum)\n",
    "\n",
    "listNestedNum = np.array([[1,2,3], [4,5,6]])\n",
    "print(\"List\")\n",
    "print(listNestedNum)\n",
    "\n",
    "print()\n",
    "print(\"List Ndim\")\n",
    "print(np.ndim(listNestedNum)) #banyaknya row / dimensi\n",
    "\n",
    "print()\n",
    "print(\"List Size\")\n",
    "print(np.size(listNestedNum)) #banyaknya elemen\n",
    "\n",
    "print()\n",
    "print(\"List Shape\")\n",
    "print(np.shape(listNestedNum))#banyaknya matriks\n",
    "\n",
    "print()\n",
    "print(\"List ReShape\")\n",
    "print(np.reshape(1, 1))#banyaknya matriks"
   ]
  },
  {
   "cell_type": "code",
   "execution_count": 60,
   "id": "f67a8d72",
   "metadata": {},
   "outputs": [
    {
     "name": "stdout",
     "output_type": "stream",
     "text": [
      "List\n",
      "[1 2 3]\n",
      "\n",
      "List New Axis\n",
      "[[1 2 3]]\n"
     ]
    }
   ],
   "source": [
    "listNum = np.array([1, 2, 3])\n",
    "\n",
    "print(\"List\")\n",
    "print(listNum)\n",
    "\n",
    "listNum1 = listNum[np.newaxis]\n",
    "print()\n",
    "print(\"List New Axis\")\n",
    "print(listNum1)"
   ]
  },
  {
   "cell_type": "code",
   "execution_count": 63,
   "id": "995c1088",
   "metadata": {},
   "outputs": [
    {
     "name": "stdout",
     "output_type": "stream",
     "text": [
      "List\n",
      "[1 2 3]\n",
      "\n",
      "List Expand Dims\n",
      "[[1]\n",
      " [2]\n",
      " [3]]\n"
     ]
    }
   ],
   "source": [
    "listNum = np.array([1, 2, 3])\n",
    "\n",
    "print(\"List\")\n",
    "print(listNum)\n",
    "\n",
    "listNum1 = np.expand_dims(listNum, axis=1)\n",
    "print()\n",
    "print(\"List Expand Dims\")\n",
    "print(listNum1)"
   ]
  },
  {
   "cell_type": "code",
   "execution_count": 127,
   "id": "e29c0131",
   "metadata": {},
   "outputs": [
    {
     "name": "stdout",
     "output_type": "stream",
     "text": [
      "List\n",
      "[1 2 3 4 5]\n",
      "\n",
      "Slice 0 s/d 2\n",
      "[1 2]\n",
      "\n",
      "Slice start dari 3 s/d abis\n",
      "4\n",
      "List Nested\n",
      "[[1 2 3]\n",
      " [4 5 6]\n",
      " [7 8 9]]\n",
      "\n",
      "Slice value more than 3\n",
      "[4 5 6 7 8 9]\n",
      "\n",
      "Slice value more than equal 7\n",
      "[7 8 9]\n",
      "\n",
      "Slice value more than equal 7 and less than 8\n",
      "[7]\n",
      "\n",
      "Slice value equal 3 or less than 8\n",
      "[1 2 3 4 5 6 7]\n",
      "\n",
      "Slice value row 1 column 2\n",
      "6\n"
     ]
    }
   ],
   "source": [
    "listNum = np.array([1, 2, 3, 4, 5])\n",
    "\n",
    "print(\"List\")\n",
    "print(listNum)\n",
    "\n",
    "print()\n",
    "print(\"Slice 0 s/d 2\")\n",
    "print(listNum[0:2])\n",
    "\n",
    "print()\n",
    "print(\"Slice start dari 3 s/d abis\")\n",
    "print(listNum[3])\n",
    "\n",
    "listNestedNum = np.array([[1,2,3], \n",
    "                          [4,5,6], \n",
    "                          [7,8,9]])\n",
    "print(\"List Nested\")\n",
    "print(listNestedNum)\n",
    "\n",
    "print()\n",
    "print(\"Slice value more than 3\")\n",
    "print(listNestedNum[listNestedNum > 3])\n",
    "\n",
    "conditionMore = (listNestedNum >= 7)\n",
    "conditionLess = (listNestedNum < 8)\n",
    "conditionEqual = (listNestedNum == 3)\n",
    "print()\n",
    "print(\"Slice value more than equal 7\")\n",
    "print(listNestedNum[condition])\n",
    "print()\n",
    "print(\"Slice value more than equal 7 and less than 8\")\n",
    "print(listNestedNum[conditionMore & conditionLess])\n",
    "print()\n",
    "print(\"Slice value equal 3 or less than 8\")\n",
    "print(listNestedNum[conditionEqual | conditionLess])\n",
    "print()\n",
    "print(\"Slice value row 1 column 2\")\n",
    "print(listNestedNum[1,2]) #row, column"
   ]
  },
  {
   "cell_type": "code",
   "execution_count": 90,
   "id": "34253c71",
   "metadata": {},
   "outputs": [
    {
     "name": "stdout",
     "output_type": "stream",
     "text": [
      "List A\n",
      "[[1 1]\n",
      " [2 2]]\n",
      "List B\n",
      "[[3 3]\n",
      " [4 4]]\n",
      "\n",
      "Merge Array Vetikal\n",
      "[[1 1]\n",
      " [2 2]\n",
      " [3 3]\n",
      " [4 4]]\n",
      "\n",
      "Merge Array Horizontal\n",
      "[[1 1 3 3]\n",
      " [2 2 4 4]]\n"
     ]
    }
   ],
   "source": [
    "a = np.array([[1,1],\n",
    "              [2,2]])\n",
    "b = np.array([[3,3],\n",
    "              [4,4]])\n",
    "print(\"List A\")\n",
    "print(a)\n",
    "print(\"List B\")\n",
    "print(b)\n",
    "\n",
    "print()\n",
    "print(\"Merge Array Vetikal\")\n",
    "print(np.vstack((a, b)))\n",
    "\n",
    "print()\n",
    "print(\"Merge Array Horizontal\")\n",
    "print(np.hstack((a, b)))"
   ]
  },
  {
   "cell_type": "code",
   "execution_count": 105,
   "id": "5b8ce9b2",
   "metadata": {},
   "outputs": [
    {
     "name": "stdout",
     "output_type": "stream",
     "text": [
      "List\n",
      "[ 1  2  3  5  6  7  8  9 10]\n",
      "\n",
      "Array Horizontal Split\n",
      "[array([1, 2, 3]), array([5, 6, 7]), array([ 8,  9, 10])]\n"
     ]
    }
   ],
   "source": [
    "listNum = np.array([1,2,3,5,6,7,8,9,10])\n",
    "print(\"List\")\n",
    "print(listNum)\n",
    "\n",
    "print()\n",
    "print(\"Array Horizontal Split\")\n",
    "print(np.hsplit(listNum, 3)) #harus dibagi sama rata"
   ]
  },
  {
   "cell_type": "code",
   "execution_count": 107,
   "id": "170803d3",
   "metadata": {},
   "outputs": [
    {
     "name": "stdout",
     "output_type": "stream",
     "text": [
      "List Nested\n",
      "[[1 2 3]\n",
      " [4 5 6]\n",
      " [7 8 9]]\n",
      "\n",
      "Array Vetikal Split\n",
      "[array([[1],\n",
      "       [4],\n",
      "       [7]]), array([[2],\n",
      "       [5],\n",
      "       [8]]), array([[3],\n",
      "       [6],\n",
      "       [9]])]\n",
      "\n",
      "Copy Array\n",
      "[[1 2 3]\n",
      " [4 5 6]\n",
      " [7 8 9]]\n"
     ]
    }
   ],
   "source": [
    "listNestedNum = np.array([[1,2,3], \n",
    "                          [4,5,6], \n",
    "                          [7,8,9]])\n",
    "print(\"List Nested\")\n",
    "print(listNestedNum)\n",
    "\n",
    "print()\n",
    "print(\"Array Vetikal Split\")\n",
    "print(np.hsplit(listNestedNum, 3))\n",
    "\n",
    "copyList = listNestedNum.copy()\n",
    "print()\n",
    "print(\"Copy Array\")\n",
    "print(copyList)"
   ]
  },
  {
   "cell_type": "code",
   "execution_count": 119,
   "id": "110a1ff0",
   "metadata": {},
   "outputs": [
    {
     "name": "stdout",
     "output_type": "stream",
     "text": [
      "List\n",
      "[ 1  2  3  5  6  7  8  9 10]\n",
      "\n",
      "Sum\n",
      "51\n",
      "\n",
      "Min\n",
      "1\n",
      "\n",
      "Max\n",
      "10\n",
      "\n",
      "Mead\n",
      "5.666666666666667\n",
      "\n",
      "List Nested\n",
      "[[1 2 3]\n",
      " [4 5 6]\n",
      " [7 8 9]]\n",
      "\n",
      "Sum Per Kolom\n",
      "[12 15 18]\n",
      "\n",
      "Sum Per Baris\n",
      "[ 6 15 24]\n"
     ]
    }
   ],
   "source": [
    "listNum = np.array([1,2,3,5,6,7,8,9,10])\n",
    "print(\"List\")\n",
    "print(listNum)\n",
    "\n",
    "print()\n",
    "print(\"Sum\")\n",
    "print(listNum.sum())\n",
    "\n",
    "print()\n",
    "print(\"Min\")\n",
    "print(listNum.min())\n",
    "\n",
    "print()\n",
    "print(\"Max\")\n",
    "print(listNum.max())\n",
    "\n",
    "print()\n",
    "print(\"Mead\")\n",
    "print(listNum.mean())\n",
    "\n",
    "listNestedNum = np.array([[1,2,3], \n",
    "                          [4,5,6], \n",
    "                          [7,8,9]])\n",
    "\n",
    "print()\n",
    "print(\"List Nested\")\n",
    "print(listNestedNum)\n",
    "\n",
    "print()\n",
    "print(\"Sum Per Kolom\")\n",
    "print(listNestedNum.sum(axis=0))\n",
    "\n",
    "print()\n",
    "print(\"Sum Per Baris\")\n",
    "print(listNestedNum.sum(axis=1))"
   ]
  },
  {
   "cell_type": "code",
   "execution_count": 112,
   "id": "7032f5de",
   "metadata": {},
   "outputs": [
    {
     "name": "stdout",
     "output_type": "stream",
     "text": [
      "Penjuamlahan Array per index\n",
      "[5 7 9]\n",
      "\n",
      "Perkalian\n",
      "[ 4 10 18]\n",
      "\n",
      "Pembagian\n",
      "[0.25 0.4  0.5 ]\n"
     ]
    }
   ],
   "source": [
    "a = np.array([1,2,3])\n",
    "b = np.array([4,5,6])\n",
    "print(\"Penjuamlahan Array per index\")\n",
    "print(a + b)\n",
    "\n",
    "print()\n",
    "print(\"Perkalian\")\n",
    "print(a * b)\n",
    "\n",
    "print()\n",
    "print(\"Pembagian\")\n",
    "print(a / b)"
   ]
  },
  {
   "cell_type": "code",
   "execution_count": 120,
   "id": "893646e7",
   "metadata": {},
   "outputs": [
    {
     "name": "stdout",
     "output_type": "stream",
     "text": [
      "List\n",
      "[ 1  2  3  5  6  7  8  9 10]\n",
      "\n",
      "Broadcasting\n",
      "[ 2  4  6 10 12 14 16 18 20]\n"
     ]
    }
   ],
   "source": [
    "listNum = np.array([1,2,3,5,6,7,8,9,10])\n",
    "print(\"List\")\n",
    "print(listNum)\n",
    "\n",
    "print()\n",
    "print(\"Broadcasting\")\n",
    "print(listNum * 2)"
   ]
  },
  {
   "cell_type": "code",
   "execution_count": 130,
   "id": "4ecc41f8",
   "metadata": {},
   "outputs": [
    {
     "name": "stdout",
     "output_type": "stream",
     "text": [
      "\n",
      "List Nested\n",
      "[[1 2 3]\n",
      " [4 5 6]\n",
      " [7 8 9]]\n",
      "\n",
      "List Transpose\n",
      "[[1 4 7]\n",
      " [2 5 8]\n",
      " [3 6 9]]\n"
     ]
    }
   ],
   "source": [
    "listNestedNum = np.array([[1,2,3], \n",
    "                          [4,5,6], \n",
    "                          [7,8,9]])\n",
    "\n",
    "print()\n",
    "print(\"List Nested\")\n",
    "print(listNestedNum)\n",
    "\n",
    "print()\n",
    "print(\"List Transpose\")\n",
    "print(listNestedNum.T)#baris -> kolom, kolom -> baris"
   ]
  }
 ],
 "metadata": {
  "kernelspec": {
   "display_name": "Python 3",
   "language": "python",
   "name": "python3"
  },
  "language_info": {
   "codemirror_mode": {
    "name": "ipython",
    "version": 3
   },
   "file_extension": ".py",
   "mimetype": "text/x-python",
   "name": "python",
   "nbconvert_exporter": "python",
   "pygments_lexer": "ipython3",
   "version": "3.8.8"
  }
 },
 "nbformat": 4,
 "nbformat_minor": 5
}
