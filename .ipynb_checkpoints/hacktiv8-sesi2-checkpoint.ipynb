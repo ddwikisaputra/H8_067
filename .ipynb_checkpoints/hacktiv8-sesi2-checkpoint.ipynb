{
 "cells": [
  {
   "cell_type": "code",
   "execution_count": 26,
   "id": "63b0fa38",
   "metadata": {},
   "outputs": [
    {
     "name": "stdout",
     "output_type": "stream",
     "text": [
      "SESUAI\n",
      "VALUE A = 10\n"
     ]
    }
   ],
   "source": [
    "a = 10\n",
    "b = 20\n",
    "\n",
    "if a < b :\n",
    "    print(\"SESUAI\")\n",
    "    \n",
    "    if a == 10 :\n",
    "        print(\"VALUE A = 10\")\n",
    "        \n",
    "else :\n",
    "    print(\"TIDAK SESUAI\")"
   ]
  },
  {
   "cell_type": "code",
   "execution_count": 27,
   "id": "898f11ae",
   "metadata": {},
   "outputs": [
    {
     "name": "stdout",
     "output_type": "stream",
     "text": [
      "Anto masuk\n"
     ]
    }
   ],
   "source": [
    "if \"anto\" in [\"andi\", \"ansir\", \"anto\"] :\n",
    "    print(\"Anto Masuk\")"
   ]
  },
  {
   "cell_type": "code",
   "execution_count": 31,
   "id": "72ba0e71",
   "metadata": {},
   "outputs": [
    {
     "name": "stdout",
     "output_type": "stream",
     "text": [
      "Tidak Masuk\n"
     ]
    }
   ],
   "source": [
    "lists = [\"andi\", \"ansir\", \"anto\"]\n",
    "check1 = \"jono\"\n",
    "check2 = \"joni\"\n",
    "\n",
    "if check1 in lists :\n",
    "    print(\"Andi Masuk\")\n",
    "    \n",
    "elif check2 in lists :\n",
    "    print (\"Ansir Masuk\")\n",
    "    \n",
    "else :\n",
    "    print(\"Tidak Masuk\")"
   ]
  },
  {
   "cell_type": "code",
   "execution_count": 32,
   "id": "eb0ea9c1",
   "metadata": {},
   "outputs": [
    {
     "name": "stdout",
     "output_type": "stream",
     "text": [
      "MASUK\n"
     ]
    }
   ],
   "source": [
    "if \"a\" in \"baro\" :\n",
    "    print(\"MASUK\")\n",
    "\n",
    "else :\n",
    "    print(\"TIDAK MASUK\")"
   ]
  },
  {
   "cell_type": "code",
   "execution_count": 35,
   "id": "23fc9d64",
   "metadata": {},
   "outputs": [
    {
     "name": "stdout",
     "output_type": "stream",
     "text": [
      "BENAR\n",
      "AYO\n",
      "KESINI\n"
     ]
    }
   ],
   "source": [
    "if 10 > 5 : print(\"BENAR\"); print(\"AYO\"); print(\"KESINI\")"
   ]
  },
  {
   "cell_type": "code",
   "execution_count": 50,
   "id": "1e46d99c",
   "metadata": {},
   "outputs": [
    {
     "name": "stdout",
     "output_type": "stream",
     "text": [
      "Lets go to the beach\n",
      "------------------------------\n",
      "Lets go to the beach\n",
      "Lets go to the school\n"
     ]
    }
   ],
   "source": [
    "raining = False\n",
    "\n",
    "text = \"Lets go to the\"\n",
    "if not raining :\n",
    "    print(text, \"beach\")\n",
    "    \n",
    "else :\n",
    "    print(text, \"bedroom\")\n",
    "    \n",
    "print(\"-\"*30)\n",
    "\n",
    "print(\"Lets go to the\", \"beach\" if not raining else \"bedroom\")\n",
    "\n",
    "x = \"school\" if not raining else \"bedroom\"\n",
    "\n",
    "print(text, x)"
   ]
  },
  {
   "cell_type": "code",
   "execution_count": 51,
   "id": "f66d705f",
   "metadata": {},
   "outputs": [
    {
     "name": "stdout",
     "output_type": "stream",
     "text": [
      "OK\n"
     ]
    }
   ],
   "source": [
    "if True :\n",
    "    pass\n",
    "\n",
    "print(\"OK\")"
   ]
  },
  {
   "cell_type": "code",
   "execution_count": 55,
   "id": "5e0327f5",
   "metadata": {},
   "outputs": [
    {
     "name": "stdout",
     "output_type": "stream",
     "text": [
      "N4\n",
      "N3\n",
      "N2\n",
      "N1\n",
      "N0\n",
      "Done\n"
     ]
    }
   ],
   "source": [
    "n = 5\n",
    "\n",
    "while n > 0 :\n",
    "    n -= 1\n",
    "    print('N{}'.format(n))\n",
    "    \n",
    "else :\n",
    "    print('Done')"
   ]
  },
  {
   "cell_type": "code",
   "execution_count": 56,
   "id": "d78eb966",
   "metadata": {},
   "outputs": [
    {
     "name": "stdout",
     "output_type": "stream",
     "text": [
      "['foo', 'barr']\n",
      "['barr']\n"
     ]
    }
   ],
   "source": [
    "a = ['foo', 'barr']\n",
    "print(a)\n",
    "\n",
    "a.pop(0)\n",
    "print(a)"
   ]
  },
  {
   "cell_type": "code",
   "execution_count": 79,
   "id": "13f38bd8",
   "metadata": {},
   "outputs": [
    {
     "name": "stdout",
     "output_type": "stream",
     "text": [
      "a\n",
      "b\n",
      "c\n",
      "------------------------------\n",
      "Data Awal :  {'a': 1, 'b': 2, 'c': 3}\n",
      "a 1\n",
      "b 2\n",
      "c 3\n",
      "------------------------------\n",
      "1\n",
      "2\n",
      "3\n",
      "------------------------------\n",
      "a\n",
      "1\n",
      "b\n",
      "2\n",
      "c\n",
      "3\n",
      "------------------------------\n",
      "a A 1\n",
      "b B 2\n",
      "c C 3\n",
      "------------------------------\n",
      "0\n",
      "1\n",
      "2\n",
      "3\n",
      "4\n",
      "5\n",
      "6\n",
      "7\n",
      "8\n",
      "9\n"
     ]
    }
   ],
   "source": [
    "# for i=1 to 10:\n",
    "#     print(i)\n",
    "\n",
    "y = ['a', 'b', 'c']\n",
    "\n",
    "for i in y:\n",
    "    print(i)\n",
    "    \n",
    "print('-'*30)\n",
    "    \n",
    "x = {'a' : 1, 'b' : 2, 'c' : 3}\n",
    "print('Data Awal : ', x)\n",
    "\n",
    "for i in x:\n",
    "    print(i, x[i])\n",
    "    \n",
    "print('-'*30)\n",
    "\n",
    "for i in x.values():\n",
    "    print(i)\n",
    "    \n",
    "print('-'*30)\n",
    "\n",
    "for k, v in x.items():\n",
    "    print(k)    \n",
    "    print(v)\n",
    "\n",
    "print('-'*30)\n",
    "\n",
    "a = ['a', 'b', 'c']\n",
    "b = ['A', 'B', 'C']\n",
    "c = [1, 2, 3]\n",
    "\n",
    "for x, y, z in zip(a, b, c):\n",
    "    print(x, y, z)\n",
    "    \n",
    "print('-'*30)\n",
    "\n",
    "for i in range(10):\n",
    "    print(i)"
   ]
  }
 ],
 "metadata": {
  "kernelspec": {
   "display_name": "Python 3",
   "language": "python",
   "name": "python3"
  },
  "language_info": {
   "codemirror_mode": {
    "name": "ipython",
    "version": 3
   },
   "file_extension": ".py",
   "mimetype": "text/x-python",
   "name": "python",
   "nbconvert_exporter": "python",
   "pygments_lexer": "ipython3",
   "version": "3.8.8"
  }
 },
 "nbformat": 4,
 "nbformat_minor": 5
}
